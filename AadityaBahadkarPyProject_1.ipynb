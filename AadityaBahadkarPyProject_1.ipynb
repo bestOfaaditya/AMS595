{
  "cells": [
    {
      "cell_type": "markdown",
      "metadata": {
        "id": "xq__bChjD04e"
      },
      "source": [
        "# Python Assignment 1 - Aaditya Bahadkar - 116507981"
      ]
    },
    {
      "cell_type": "markdown",
      "metadata": {
        "id": "b_bgT3b2GYTB"
      },
      "source": [
        "## 0. Data Types, Structures, Indexing, and Slicing"
      ]
    },
    {
      "cell_type": "markdown",
      "metadata": {
        "id": "6yI1Jt57IwV2"
      },
      "source": [
        "Complete the following questions.\n",
        "\n",
        "(5 points) Give some examples (at least 2) of mutable objects in Python.\n",
        "\n",
        "***Answer:***\n",
        "\n",
        "Mutable objects are objects whose values can be changed after they are created.\n",
        "\n",
        "In Python mutable objects are of type list, dict or set. Even custom classes can be mutable.\n",
        "\n",
        "***Examples:***\n"
      ]
    },
    {
      "cell_type": "code",
      "execution_count": 3,
      "metadata": {
        "colab": {
          "base_uri": "https://localhost:8080/"
        },
        "id": "dA6CagYBUM6W",
        "outputId": "df93d40f-6570-44bb-dca4-59ded627c4e5"
      },
      "outputs": [
        {
          "output_type": "stream",
          "name": "stdout",
          "text": [
            "['Sinner', 'Alcaraz', 'Medvedev', 'Nadal']\n",
            "['Sinner', 'Alcaraz', 'Nadal']\n",
            "['Sinner', 'Alcaraz']\n",
            "Nadal\n"
          ]
        }
      ],
      "source": [
        "# List of tennis players\n",
        "tennis_players = [\"Sinner\", \"Alcaraz\", \"Medvedev\"]\n",
        "tennis_players.append(\"Nadal\")\n",
        "print(tennis_players)\n",
        "\n",
        "# Removing a player\n",
        "tennis_players.remove(\"Medvedev\")\n",
        "print(tennis_players)\n",
        "\n",
        "# Popping a retired player\n",
        "index_to_remove = tennis_players.index(\"Nadal\")  # Find the index of \"Nadal\"\n",
        "retired_player = tennis_players.pop(index_to_remove)  # Remove element at that index\n",
        "print(tennis_players)\n",
        "print(retired_player)"
      ]
    },
    {
      "cell_type": "code",
      "execution_count": 2,
      "metadata": {
        "colab": {
          "base_uri": "https://localhost:8080/"
        },
        "id": "KJGBEzx3UM6X",
        "outputId": "ddb70888-8a5e-4ba4-a267-609bf71d8ae6"
      },
      "outputs": [
        {
          "output_type": "stream",
          "name": "stdout",
          "text": [
            "After updating a player's name: ['Kohli (Captain)', 'Tendulkar', 'Dhoni', 'Rohit Sharma']\n",
            "After inserting a player at position 2: ['Kohli (Captain)', 'Tendulkar', 'Yuvraj', 'Dhoni', 'Rohit Sharma']\n"
          ]
        }
      ],
      "source": [
        "# List of cricketers\n",
        "cricketers = [\"Kohli\", \"Tendulkar\", \"Dhoni\", \"Rohit Sharma\"]\n",
        "\n",
        "# Updating the name of a player\n",
        "cricketers[0] = \"Kohli (Captain)\"\n",
        "print(\"After updating a player's name:\", cricketers)\n",
        "\n",
        "# Inserting a player at a specific position\n",
        "cricketers.insert(2, \"Yuvraj\")\n",
        "print(\"After inserting a player at position 2:\", cricketers)"
      ]
    },
    {
      "cell_type": "markdown",
      "metadata": {
        "id": "VFHNB3KLUM6Y"
      },
      "source": [
        "\n",
        "\n",
        "---\n",
        "\n",
        "\n",
        "\n",
        "(5 points) Give some examples (at least 2) of immutable objects in Python.\n",
        "\n",
        "***Answer:***\n",
        "\n",
        "An immutable object can’t be changed after it is created.\n",
        "\n",
        "Immutable Objects are of in-built datatypes like int, float, bool, string, Unicode, and tuple.\n",
        "\n",
        "***Examples:***"
      ]
    },
    {
      "cell_type": "code",
      "source": [
        "# String are in-built datatypes hence immutable sequences of characters.\n",
        "name = \"Alice\"\n",
        "print(name)"
      ],
      "metadata": {
        "colab": {
          "base_uri": "https://localhost:8080/"
        },
        "id": "Ub9T-dSwWnM9",
        "outputId": "9ade1453-8281-49dd-d7a2-0ce8020248a8"
      },
      "execution_count": 6,
      "outputs": [
        {
          "output_type": "stream",
          "name": "stdout",
          "text": [
            "Alice\n"
          ]
        }
      ]
    },
    {
      "cell_type": "code",
      "source": [
        "name[0] = \"B\"  # Raises a TypeError as strings are immutable."
      ],
      "metadata": {
        "colab": {
          "base_uri": "https://localhost:8080/",
          "height": 141
        },
        "id": "pEcYOEtpYPe8",
        "outputId": "29e25f0e-f7b2-495c-e92d-45a1ca62f8fc"
      },
      "execution_count": 7,
      "outputs": [
        {
          "output_type": "error",
          "ename": "TypeError",
          "evalue": "'str' object does not support item assignment",
          "traceback": [
            "\u001b[0;31m---------------------------------------------------------------------------\u001b[0m",
            "\u001b[0;31mTypeError\u001b[0m                                 Traceback (most recent call last)",
            "\u001b[0;32m<ipython-input-7-20e077f69ba5>\u001b[0m in \u001b[0;36m<cell line: 1>\u001b[0;34m()\u001b[0m\n\u001b[0;32m----> 1\u001b[0;31m \u001b[0mname\u001b[0m\u001b[0;34m[\u001b[0m\u001b[0;36m0\u001b[0m\u001b[0;34m]\u001b[0m \u001b[0;34m=\u001b[0m \u001b[0;34m\"B\"\u001b[0m  \u001b[0;31m# Raises a TypeError as strings are immutable.\u001b[0m\u001b[0;34m\u001b[0m\u001b[0;34m\u001b[0m\u001b[0m\n\u001b[0m",
            "\u001b[0;31mTypeError\u001b[0m: 'str' object does not support item assignment"
          ]
        }
      ]
    },
    {
      "cell_type": "code",
      "source": [
        "print(name)"
      ],
      "metadata": {
        "colab": {
          "base_uri": "https://localhost:8080/"
        },
        "id": "XBRUIboFYt28",
        "outputId": "0da07bf4-5d5f-4c3c-8e74-4800532ef83a"
      },
      "execution_count": 8,
      "outputs": [
        {
          "output_type": "stream",
          "name": "stdout",
          "text": [
            "Alice\n"
          ]
        }
      ]
    },
    {
      "cell_type": "code",
      "source": [
        "# Tuples are also immutable ordered collections of items.\n",
        "coordinates = (10, 20)\n",
        "print(coordinates)"
      ],
      "metadata": {
        "colab": {
          "base_uri": "https://localhost:8080/"
        },
        "id": "flTrk5lHYW_F",
        "outputId": "fba7bb22-54b2-49e5-88d9-892bf75c6d23"
      },
      "execution_count": 9,
      "outputs": [
        {
          "output_type": "stream",
          "name": "stdout",
          "text": [
            "(10, 20)\n"
          ]
        }
      ]
    },
    {
      "cell_type": "code",
      "source": [
        "coordinates[0] = 5  # Raises a TypeError as tuples are also immutable."
      ],
      "metadata": {
        "colab": {
          "base_uri": "https://localhost:8080/",
          "height": 141
        },
        "id": "wpe7EWyIYg5j",
        "outputId": "481ac6a5-c58c-4dfa-b8b5-6d2569a322d1"
      },
      "execution_count": 10,
      "outputs": [
        {
          "output_type": "error",
          "ename": "TypeError",
          "evalue": "'tuple' object does not support item assignment",
          "traceback": [
            "\u001b[0;31m---------------------------------------------------------------------------\u001b[0m",
            "\u001b[0;31mTypeError\u001b[0m                                 Traceback (most recent call last)",
            "\u001b[0;32m<ipython-input-10-092b9fa0e27f>\u001b[0m in \u001b[0;36m<cell line: 1>\u001b[0;34m()\u001b[0m\n\u001b[0;32m----> 1\u001b[0;31m \u001b[0mcoordinates\u001b[0m\u001b[0;34m[\u001b[0m\u001b[0;36m0\u001b[0m\u001b[0;34m]\u001b[0m \u001b[0;34m=\u001b[0m \u001b[0;36m5\u001b[0m  \u001b[0;31m# Raises a TypeError as tuples are also immutable.\u001b[0m\u001b[0;34m\u001b[0m\u001b[0;34m\u001b[0m\u001b[0m\n\u001b[0m",
            "\u001b[0;31mTypeError\u001b[0m: 'tuple' object does not support item assignment"
          ]
        }
      ]
    },
    {
      "cell_type": "code",
      "source": [
        "print(coordinates)"
      ],
      "metadata": {
        "colab": {
          "base_uri": "https://localhost:8080/"
        },
        "id": "WDHBVhcmY08j",
        "outputId": "5e4fdd8b-1c0a-4f71-f33e-5e3b867d2e4a"
      },
      "execution_count": 11,
      "outputs": [
        {
          "output_type": "stream",
          "name": "stdout",
          "text": [
            "(10, 20)\n"
          ]
        }
      ]
    },
    {
      "cell_type": "code",
      "source": [
        "# Floating-point numbers are immutable with decimal points.\n",
        "price = 99.99\n",
        "print(price)"
      ],
      "metadata": {
        "colab": {
          "base_uri": "https://localhost:8080/"
        },
        "id": "l-OIILQgYlvs",
        "outputId": "0fa0c01f-083a-4a39-d10d-3bbb689c4a0f"
      },
      "execution_count": 12,
      "outputs": [
        {
          "output_type": "stream",
          "name": "stdout",
          "text": [
            "99.99\n"
          ]
        }
      ]
    },
    {
      "cell_type": "code",
      "source": [
        "price[0] = 1  # Raises a TypeError as floats are also immutable."
      ],
      "metadata": {
        "colab": {
          "base_uri": "https://localhost:8080/",
          "height": 141
        },
        "id": "2PZAA3tVY5n6",
        "outputId": "77596875-c4eb-46c6-d223-aff31ec2274a"
      },
      "execution_count": 13,
      "outputs": [
        {
          "output_type": "error",
          "ename": "TypeError",
          "evalue": "'float' object does not support item assignment",
          "traceback": [
            "\u001b[0;31m---------------------------------------------------------------------------\u001b[0m",
            "\u001b[0;31mTypeError\u001b[0m                                 Traceback (most recent call last)",
            "\u001b[0;32m<ipython-input-13-567b66ae0efc>\u001b[0m in \u001b[0;36m<cell line: 1>\u001b[0;34m()\u001b[0m\n\u001b[0;32m----> 1\u001b[0;31m \u001b[0mprice\u001b[0m\u001b[0;34m[\u001b[0m\u001b[0;36m0\u001b[0m\u001b[0;34m]\u001b[0m \u001b[0;34m=\u001b[0m \u001b[0;36m1\u001b[0m  \u001b[0;31m# Raises a TypeError as floats are also immutable.\u001b[0m\u001b[0;34m\u001b[0m\u001b[0;34m\u001b[0m\u001b[0m\n\u001b[0m",
            "\u001b[0;31mTypeError\u001b[0m: 'float' object does not support item assignment"
          ]
        }
      ]
    },
    {
      "cell_type": "code",
      "source": [
        "print(price) # Prints the original value of floating point number"
      ],
      "metadata": {
        "colab": {
          "base_uri": "https://localhost:8080/"
        },
        "id": "uRizRcoJY-p7",
        "outputId": "e5aab5a8-682c-4f92-bb26-6b86e880dd1d"
      },
      "execution_count": 14,
      "outputs": [
        {
          "output_type": "stream",
          "name": "stdout",
          "text": [
            "99.99\n"
          ]
        }
      ]
    },
    {
      "cell_type": "markdown",
      "metadata": {
        "id": "eD1xUOBTUM6Y"
      },
      "source": [
        "\n",
        "\n",
        "---\n",
        "\n",
        "\n",
        "\n",
        "(10 points) State the differences between assignment, shallow copy, and deep copy. Any reasonable answer will get full credit.\n",
        "\n",
        "***Answer:***\n",
        "\n",
        "Assignment (=)\n",
        "\n",
        "Assignment simply copies the reference to an object. No new object is created.\n",
        "\n",
        "Both variables point to the same object in memory. Any changes made through one variable will affect the other."
      ]
    },
    {
      "cell_type": "code",
      "source": [
        "list1 = [1, 2, 3]\n",
        "list2 = list1  # Assignment\n",
        "\n",
        "list2.append(4)  # Modifying list2\n",
        "print(list1)  # list1 is also affected"
      ],
      "metadata": {
        "colab": {
          "base_uri": "https://localhost:8080/"
        },
        "id": "Pz1XvGWNfojZ",
        "outputId": "2cf40c08-113e-48bd-9d2e-377cbae0c00e"
      },
      "execution_count": 15,
      "outputs": [
        {
          "output_type": "stream",
          "name": "stdout",
          "text": [
            "[1, 2, 3, 4]\n"
          ]
        }
      ]
    },
    {
      "cell_type": "markdown",
      "source": [
        "Shallow Copy (copy.copy())\n",
        "\n",
        "A shallow copy creates a new object, but the contents (references to nested objects) are still the same as in the original. It only copies the outermost object, not any objects that are nested within.\n",
        "\n",
        "The new object is independent of the original, but if the object contains references to other mutable objects (like lists inside lists), changes to those inner objects will be reflected in both the original and the shallow copy."
      ],
      "metadata": {
        "id": "IIMIx3Pff3GD"
      }
    },
    {
      "cell_type": "code",
      "source": [
        "import copy\n",
        "\n",
        "list1 = [[1, 2], [3, 4]]\n",
        "list2 = copy.copy(list1)  # Shallow copy\n",
        "\n",
        "list2[0].append(99)  # Modifying the nested list2\n",
        "print(list2)\n",
        "print(list1)  # Nested object is shared hence changes are reflected in both lists"
      ],
      "metadata": {
        "colab": {
          "base_uri": "https://localhost:8080/"
        },
        "id": "DOXs0tXAgT9T",
        "outputId": "cb35a701-b48c-4669-fa39-da87bf424af7"
      },
      "execution_count": 16,
      "outputs": [
        {
          "output_type": "stream",
          "name": "stdout",
          "text": [
            "[[1, 2, 99], [3, 4]]\n",
            "[[1, 2, 99], [3, 4]]\n"
          ]
        }
      ]
    },
    {
      "cell_type": "markdown",
      "source": [
        "Deep Copy (copy.deepcopy())\n",
        "\n",
        "A deep copy creates a new object and recursively copies all objects found inside the original, including nested objects.\n",
        "\n",
        "The copied object and all of its sub-objects are completely independent of the original hence any changes made to it do not affect the original, and vice versa."
      ],
      "metadata": {
        "id": "lNBEHrw8hM4z"
      }
    },
    {
      "cell_type": "code",
      "source": [
        "list1 = [[1, 2], [3, 4]]\n",
        "list2 = copy.deepcopy(list1)  # Deep copy\n",
        "\n",
        "list2[0].append(99)  # Modifying the nested list2\n",
        "print(list2)  # list2 is independent\n",
        "print(list1)  # No change in list1"
      ],
      "metadata": {
        "colab": {
          "base_uri": "https://localhost:8080/"
        },
        "id": "nXpOkXiehMCz",
        "outputId": "1e4bf8a4-207d-4b62-e03d-4273ea995d38"
      },
      "execution_count": 17,
      "outputs": [
        {
          "output_type": "stream",
          "name": "stdout",
          "text": [
            "[[1, 2, 99], [3, 4]]\n",
            "[[1, 2], [3, 4]]\n"
          ]
        }
      ]
    },
    {
      "cell_type": "markdown",
      "metadata": {
        "id": "OA8DxcrrGqZD"
      },
      "source": [
        "\n",
        "---\n",
        "\n",
        "(10 points) Using string methods find() and rfind(), find the index of the first digit (i.e. 0) and the index of the last digit (5) in the string below. Then, using string slicing, extract the number (i.e. 0.595595) from this string and convert the extracted value to a floating point number. Print out this float to the console."
      ]
    },
    {
      "cell_type": "code",
      "source": [
        "text = \"F-DGFDDSFGFD-CFDSHdstgfdfe: tfsd  aaa bdsf 0.595595 fdsgfdbc\";\n",
        "# Find the index of the first '0'\n",
        "first_digit_index = text.find('0')\n",
        "print(\"First 0 occurs at:\", first_digit_index)\n",
        "# Find the index of the last '5'\n",
        "last_digit_index = text.rfind('5')\n",
        "print(\"Last 5 occurs at:\", last_digit_index)\n",
        "# Extract the number using slicing\n",
        "number_str = text[first_digit_index:last_digit_index + 1]\n",
        "print(\"Text stream:\", number_str)\n",
        "# Convert the extracted string to a float\n",
        "number_float = float(number_str)\n",
        "print(\"Converted floating-number:\", number_float)\n"
      ],
      "metadata": {
        "colab": {
          "base_uri": "https://localhost:8080/"
        },
        "id": "mODbErMXjs81",
        "outputId": "5d20b0ff-208e-495a-aafd-647475d9e1b8"
      },
      "execution_count": 26,
      "outputs": [
        {
          "output_type": "stream",
          "name": "stdout",
          "text": [
            "First 0 occurs at: 43\n",
            "Last 5 occurs at: 50\n",
            "Text stream: 0.595595\n",
            "Converted floating-number: 0.595595\n"
          ]
        }
      ]
    },
    {
      "cell_type": "markdown",
      "metadata": {
        "id": "cnCljYgpD04p"
      },
      "source": [
        "## 1. Conditional Statements\n",
        "\n",
        "(10 points)\n",
        "Translate the following MATLAB code into Python using `if-elif-else`.\n",
        "```\n",
        "n = input('Enter a number: ');\n",
        "\n",
        "switch n\n",
        "    case -1\n",
        "        disp('negative one')\n",
        "    case 0\n",
        "        disp('zero')\n",
        "    case 1\n",
        "        disp('positive one')\n",
        "    otherwise\n",
        "        disp('other value')\n",
        "end\n",
        "```"
      ]
    },
    {
      "cell_type": "code",
      "source": [
        "# Getting input from the user\n",
        "n = float(input('Enter a number: '))\n",
        "\n",
        "# Using if-elif-else to mimic the switch-case structure\n",
        "if n == -1:\n",
        "    print('negative one')\n",
        "elif n == 0:\n",
        "    print('zero')\n",
        "elif n == 1:\n",
        "    print('positive one')\n",
        "else:\n",
        "    print('other value')"
      ],
      "metadata": {
        "colab": {
          "base_uri": "https://localhost:8080/"
        },
        "id": "8zdlWecXl4x0",
        "outputId": "614658c6-9e15-418f-84ea-5cc05397e442"
      },
      "execution_count": 49,
      "outputs": [
        {
          "output_type": "stream",
          "name": "stdout",
          "text": [
            "Enter a number: 0.99\n",
            "other value\n"
          ]
        }
      ]
    },
    {
      "cell_type": "markdown",
      "metadata": {
        "id": "sW9XiUPpD04s"
      },
      "source": [
        "## 2. While Loops\n",
        "\n",
        "(10 points) Write a Python program that calculates the factorial of a given number (you can assume an positive integer) using a while loop. Display the result to the console."
      ]
    },
    {
      "cell_type": "code",
      "execution_count": 56,
      "metadata": {
        "colab": {
          "base_uri": "https://localhost:8080/"
        },
        "collapsed": true,
        "id": "CRCERx8uD04t",
        "outputId": "d2fb4e3a-7130-4f25-ae6a-a48e57ddd8d7"
      },
      "outputs": [
        {
          "output_type": "stream",
          "name": "stdout",
          "text": [
            "Enter a positive integer to calulate its factorial: 10\n",
            "The factorial of 10 is 3628800\n"
          ]
        }
      ],
      "source": [
        "n = int(input(\"Enter a positive integer to calulate its factorial: \"))\n",
        "\n",
        "# Initialize variables\n",
        "factorial = 1\n",
        "i = 1\n",
        "# Calculate the factorial using a while loop\n",
        "while i<=n:\n",
        "    factorial *= i\n",
        "    i += 1\n",
        "print(f\"The factorial of {n} is {factorial}\")"
      ]
    },
    {
      "cell_type": "markdown",
      "metadata": {
        "id": "ZQ5SVMq6D04w"
      },
      "source": [
        "## 3. Functions\n",
        "\n",
        "(10 points) Write a function that determines if a number is prime."
      ]
    },
    {
      "cell_type": "code",
      "execution_count": 65,
      "metadata": {
        "colab": {
          "base_uri": "https://localhost:8080/"
        },
        "id": "6rGP5G3_D04x",
        "outputId": "2b5174ef-5f96-4662-94bf-b261630dbaab"
      },
      "outputs": [
        {
          "output_type": "stream",
          "name": "stdout",
          "text": [
            "True\n",
            "False\n",
            "True\n",
            "True\n",
            "False\n"
          ]
        }
      ],
      "source": [
        "def is_prime(n):\n",
        "# Check first if the input is > 1\n",
        "  if n <= 1:\n",
        "    return False\n",
        "# Use a while loop to find any factors\n",
        "  i = n-1\n",
        "  while i > 1:\n",
        "    if n % i == 0:\n",
        "      return False # Factors exist hence not prime\n",
        "    i -= 1\n",
        "  return True # No factors exist hence number is prime\n",
        "# test cases\n",
        "print(is_prime(2))\n",
        "print(is_prime(10))\n",
        "print(is_prime(17))\n",
        "print(is_prime(3))\n",
        "print(is_prime(49))"
      ]
    },
    {
      "cell_type": "markdown",
      "metadata": {
        "id": "Z6qg-fpQD04u"
      },
      "source": [
        "## 4. List Comprehension\n",
        "\n",
        "(10 points) Write a Python function called `prime_factors` that takes a relatively small integer as input and returns a list of its distinct prime factors. The function should use list comprehension to generate the list of distinct prime factors. You may use the function is_prime() defined in Q3.\n"
      ]
    },
    {
      "cell_type": "code",
      "execution_count": 72,
      "metadata": {
        "colab": {
          "base_uri": "https://localhost:8080/"
        },
        "collapsed": true,
        "id": "2hSCjYlOD04v",
        "outputId": "50119546-4776-4cd8-e020-2297acfda07c"
      },
      "outputs": [
        {
          "output_type": "stream",
          "name": "stdout",
          "text": [
            "[2, 3, 5]\n",
            "[2, 7]\n",
            "[2, 3, 11]\n",
            "[2, 29]\n"
          ]
        }
      ],
      "source": [
        "def prime_factors(n):\n",
        "  factors = []  # List to store prime factors\n",
        "  for i in range(2, n + 1):\n",
        "    # Checking if i is a factor of n and if i is prime\n",
        "    if n % i == 0 and is_prime(i):\n",
        "      factors.append(i)  # Adding i to the list of factors\n",
        "  return factors\n",
        "\n",
        "# test cases\n",
        "print(prime_factors(30))  # Output: [2, 3, 5]\n",
        "print(prime_factors(56))  # Output: [2, 7]\n",
        "print(prime_factors(198))  # Output: [2, 3, 11]\n",
        "print(prime_factors(464))  # Output: [2, 29]"
      ]
    },
    {
      "cell_type": "markdown",
      "metadata": {
        "id": "dw4kZZCiD040"
      },
      "source": [
        "## 5. Recursive Functions\n",
        "(25 points) Write a function that uses recursion to generate the $n$th row of the Pascal's triangle.\n",
        "```\n",
        "              1\n",
        "           1     1\n",
        "        1     2     1\n",
        "      1    3     3     1\n",
        "   1    4     6     4    1\n",
        "1     5    10    10    5    1\n",
        "...\n",
        "...\n",
        "...\n",
        "```"
      ]
    },
    {
      "cell_type": "code",
      "execution_count": 78,
      "metadata": {
        "colab": {
          "base_uri": "https://localhost:8080/"
        },
        "id": "V8QFB_gKD040",
        "outputId": "30e2b643-5d4c-43de-d796-6b112ffcd0dc"
      },
      "outputs": [
        {
          "output_type": "stream",
          "name": "stdout",
          "text": [
            "[1, 5, 10, 10, 5, 1]\n",
            "[1, 4, 6, 4, 1]\n",
            "[1, 3, 3, 1]\n",
            "[1, 2, 1]\n",
            "[1, 1]\n",
            "[1]\n"
          ]
        }
      ],
      "source": [
        "def pascal(n):\n",
        "    # Base case: return the first row of Pascal's Triangle\n",
        "    if n == 1:\n",
        "        return [1]  # The first row is always [1]\n",
        "\n",
        "    # Recursive case: calculate the current row based on the previous row\n",
        "    else:\n",
        "        previous_row = pascal(n - 1)  # Recursively get the previous row\n",
        "        current_row = [1]  # Every row starts with 1\n",
        "\n",
        "        # Loop through the previous row to generate the current row\n",
        "        for i in range(len(previous_row) - 1):\n",
        "            # Add adjacent values from the previous row\n",
        "            current_row.append(previous_row[i] + previous_row[i + 1])\n",
        "\n",
        "        # End the current row with 1 and return it\n",
        "        return current_row + [1]  # Every row ends with 1\n",
        "\n",
        "# test case\n",
        "print(pascal(6))  # output [1, 5, 10, 10, 5, 1]\n",
        "print(pascal(5))\n",
        "print(pascal(4))\n",
        "print(pascal(3))\n",
        "print(pascal(2))\n",
        "print(pascal(1))"
      ]
    },
    {
      "cell_type": "markdown",
      "metadata": {
        "id": "eZytgm0qD041"
      },
      "source": [
        "Rewrite the above function using only `while` or `for` loops instead of recursion."
      ]
    },
    {
      "cell_type": "code",
      "execution_count": 80,
      "metadata": {
        "colab": {
          "base_uri": "https://localhost:8080/"
        },
        "collapsed": true,
        "id": "UZ8f-akaD041",
        "outputId": "5e3fa54a-f006-4239-bc88-cde1eaa270a3"
      },
      "outputs": [
        {
          "output_type": "stream",
          "name": "stdout",
          "text": [
            "[1, 5, 10, 10, 5, 1]\n"
          ]
        }
      ],
      "source": [
        "def pascal_by_loops(n):\n",
        "# First row is only 1\n",
        "    current_row = [1]\n",
        "\n",
        "    # Loop to calculate each row from the 2nd to the nth row\n",
        "    for row_num in range(1, n):\n",
        "        # Creating a new row starting with 1\n",
        "        new_row = [1]\n",
        "\n",
        "        # Fill in the values for the new row by adding adjacent values from the current row\n",
        "        for i in range(len(current_row) - 1):\n",
        "            new_row.append(current_row[i] + current_row[i + 1])\n",
        "        # End the new row with 1\n",
        "        new_row.append(1)\n",
        "        # Moving to the next row as new_row becomes current_row for next iteration\n",
        "        current_row = new_row\n",
        "\n",
        "    # Return the nth row\n",
        "    return current_row\n",
        "# test case\n",
        "print(pascal_by_loops(6))"
      ]
    },
    {
      "cell_type": "markdown",
      "metadata": {
        "id": "HvHD6QHzVo9I"
      },
      "source": [
        "\n",
        "\n",
        "---\n",
        "\n",
        "\n",
        "（5 points) good coding practice and properly submitting your work to GitHub."
      ]
    }
  ],
  "metadata": {
    "anaconda-cloud": {},
    "colab": {
      "provenance": []
    },
    "kernelspec": {
      "display_name": "Python 3",
      "language": "python",
      "name": "python3"
    },
    "language_info": {
      "codemirror_mode": {
        "name": "ipython",
        "version": 3
      },
      "file_extension": ".py",
      "mimetype": "text/x-python",
      "name": "python",
      "nbconvert_exporter": "python",
      "pygments_lexer": "ipython3",
      "version": "3.7.4"
    }
  },
  "nbformat": 4,
  "nbformat_minor": 0
}